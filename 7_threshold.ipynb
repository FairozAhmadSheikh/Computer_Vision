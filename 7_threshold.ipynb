{
 "cells": [
  {
   "cell_type": "code",
   "execution_count": 44,
   "metadata": {},
   "outputs": [
    {
     "data": {
      "text/plain": [
       "-1"
      ]
     },
     "execution_count": 44,
     "metadata": {},
     "output_type": "execute_result"
    }
   ],
   "source": [
    "import cv2\n",
    "bear=cv2.imread('bear.jpg')\n",
    "gray_bear=cv2.cvtColor(bear,cv2.COLOR_BGR2GRAY)\n",
    "\n",
    "cv2.imshow('nomal bear',bear)\n",
    "cv2.imshow('black white bear',gray_bear)\n",
    "ret,thresh_bear=cv2.threshold(gray_bear,120,255,cv2.THRESH_BINARY)\n",
    "cv2.imshow('thresh bear',thresh_bear)\n",
    "\n",
    "cv2.waitKey(0)"
   ]
  },
  {
   "cell_type": "markdown",
   "metadata": {},
   "source": [
    "Fixing Screen"
   ]
  },
  {
   "cell_type": "code",
   "execution_count": 46,
   "metadata": {},
   "outputs": [],
   "source": [
    "import cv2\n",
    "\n",
    "bear = cv2.imread('bear_black.jpg')\n",
    "gray_bear = cv2.cvtColor(bear, cv2.COLOR_BGR2GRAY)\n",
    "ret, thresh_bear = cv2.threshold(gray_bear, 80, 255, cv2.THRESH_BINARY)\n",
    "\n",
    "# Allow the window to be resized\n",
    "cv2.namedWindow('Normal Bear', cv2.WINDOW_NORMAL)\n",
    "cv2.namedWindow('Black White Bear', cv2.WINDOW_NORMAL)\n",
    "cv2.namedWindow('Thresh Bear', cv2.WINDOW_NORMAL)\n",
    "\n",
    "cv2.imshow('Normal Bear', bear)\n",
    "cv2.imshow('Black White Bear', gray_bear)\n",
    "cv2.imshow('Thresh Bear', thresh_bear)\n",
    "\n",
    "cv2.waitKey(0)\n",
    "cv2.destroyAllWindows()\n"
   ]
  },
  {
   "cell_type": "code",
   "execution_count": null,
   "metadata": {},
   "outputs": [],
   "source": [
    "import cv2\n",
    "\n",
    "# Load the image\n",
    "bear = cv2.imread('bear2.jpg')\n",
    "\n",
    "# Check if the image is loaded correctly\n",
    "if bear is None:\n",
    "    print(\"Error: Image not found or could not be loaded!\")\n",
    "    exit()\n",
    "\n",
    "# Convert the image to grayscale\n",
    "gray_bear = cv2.cvtColor(bear, cv2.COLOR_BGR2GRAY)\n",
    "\n",
    "# Apply adaptive thresholding\n",
    "adaptive_thresh_mean = cv2.adaptiveThreshold(gray_bear, 255, cv2.ADAPTIVE_THRESH_MEAN_C,\n",
    "                                             cv2.THRESH_BINARY, 11, 2)\n",
    "\n",
    "adaptive_thresh_gaussian = cv2.adaptiveThreshold(gray_bear, 255, cv2.ADAPTIVE_THRESH_GAUSSIAN_C,\n",
    "                                                 cv2.THRESH_BINARY, 11, 2)\n",
    "\n",
    "# Create resizable windows\n",
    "cv2.namedWindow('Original Bear', cv2.WINDOW_NORMAL)\n",
    "cv2.namedWindow('Grayscale Bear', cv2.WINDOW_NORMAL)\n",
    "cv2.namedWindow('Adaptive Mean Thresholding', cv2.WINDOW_NORMAL)\n",
    "cv2.namedWindow('Adaptive Gaussian Thresholding', cv2.WINDOW_NORMAL)\n",
    "\n",
    "# Display the images\n",
    "cv2.imshow('Original Bear', bear)\n",
    "cv2.imshow('Grayscale Bear', gray_bear)\n",
    "cv2.imshow('Adaptive Mean Thresholding', adaptive_thresh_mean)\n",
    "cv2.imshow('Adaptive Gaussian Thresholding', adaptive_thresh_gaussian)\n",
    "\n",
    "# Wait for key press and close windows\n",
    "cv2.waitKey(0)\n",
    "cv2.destroyAllWindows()\n"
   ]
  }
 ],
 "metadata": {
  "kernelspec": {
   "display_name": "Python 3",
   "language": "python",
   "name": "python3"
  },
  "language_info": {
   "codemirror_mode": {
    "name": "ipython",
    "version": 3
   },
   "file_extension": ".py",
   "mimetype": "text/x-python",
   "name": "python",
   "nbconvert_exporter": "python",
   "pygments_lexer": "ipython3",
   "version": "3.13.1"
  }
 },
 "nbformat": 4,
 "nbformat_minor": 2
}
