{
 "cells": [
  {
   "cell_type": "code",
   "execution_count": 1,
   "metadata": {},
   "outputs": [],
   "source": [
    "import cv2"
   ]
  },
  {
   "cell_type": "code",
   "execution_count": 13,
   "metadata": {},
   "outputs": [
    {
     "name": "stdout",
     "output_type": "stream",
     "text": [
      "(415, 650, 3)\n"
     ]
    },
    {
     "data": {
      "text/plain": [
       "-1"
      ]
     },
     "execution_count": 13,
     "metadata": {},
     "output_type": "execute_result"
    }
   ],
   "source": [
    "img=cv2.imread('whiteboard.jpg')\n",
    "\n",
    "# line\n",
    "print(img.shape)\n",
    "cv2.line(img,(100,150),(300,350),(0,255,0),3)\n",
    "\n",
    "# rectangle\n",
    "cv2.rectangle(img,(220,230),(300,150),(255,0,0),3)\n",
    "#circle\n",
    "cv2.circle(img,(250,200),15,(0,0,255),2)\n",
    "\n",
    "# text\n",
    "cv2.putText(img,'hello',(300,350),cv2.FONT_HERSHEY_COMPLEX,2,(221,192,0),2)\n",
    "cv2.imshow('frame1',img)\n",
    "cv2.waitKey(0)"
   ]
  }
 ],
 "metadata": {
  "kernelspec": {
   "display_name": "Python 3",
   "language": "python",
   "name": "python3"
  },
  "language_info": {
   "codemirror_mode": {
    "name": "ipython",
    "version": 3
   },
   "file_extension": ".py",
   "mimetype": "text/x-python",
   "name": "python",
   "nbconvert_exporter": "python",
   "pygments_lexer": "ipython3",
   "version": "3.13.1"
  }
 },
 "nbformat": 4,
 "nbformat_minor": 2
}
